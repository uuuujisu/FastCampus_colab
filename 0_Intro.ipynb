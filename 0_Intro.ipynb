{
  "nbformat": 4,
  "nbformat_minor": 0,
  "metadata": {
    "colab": {
      "name": "0. Intro.ipynb",
      "provenance": [],
      "collapsed_sections": [],
      "authorship_tag": "ABX9TyPYu7MCoxdM9cw4SBrzwVrP",
      "include_colab_link": true
    },
    "kernelspec": {
      "name": "python3",
      "display_name": "Python 3"
    },
    "language_info": {
      "name": "python"
    }
  },
  "cells": [
    {
      "cell_type": "markdown",
      "metadata": {
        "id": "view-in-github",
        "colab_type": "text"
      },
      "source": [
        "<a href=\"https://colab.research.google.com/github/uuuujisu/practice_colab/blob/master/0_Intro.ipynb\" target=\"_parent\"><img src=\"https://colab.research.google.com/assets/colab-badge.svg\" alt=\"Open In Colab\"/></a>"
      ]
    },
    {
      "cell_type": "markdown",
      "metadata": {
        "id": "fB5eAOcJhAJo"
      },
      "source": [
        "**Numpy** package"
      ]
    },
    {
      "cell_type": "code",
      "metadata": {
        "id": "ymzLnqkEgnSz"
      },
      "source": [
        "import numpy as np"
      ],
      "execution_count": null,
      "outputs": []
    },
    {
      "cell_type": "code",
      "metadata": {
        "colab": {
          "base_uri": "https://localhost:8080/"
        },
        "id": "9N-17M0mg04p",
        "outputId": "4c3b9621-2b79-4fe8-e56b-ee8910c07615"
      },
      "source": [
        "matrix_a = np.asarray([[4, 5, 2],\n",
        "                       [5, 2, 6],\n",
        "                       [6, 1, -2]])\n",
        "\n",
        "matrix_b = np.asarray([[5, 9, 2],\n",
        "                       [2, 0, 3],\n",
        "                       [1, -4, 5]])\n",
        "\n",
        "matrix_c = matrix_a + matrix_b\n",
        "print(matrix_c)"
      ],
      "execution_count": null,
      "outputs": [
        {
          "output_type": "stream",
          "text": [
            "[[ 9 14  4]\n",
            " [ 7  2  9]\n",
            " [ 7 -3  3]]\n"
          ],
          "name": "stdout"
        }
      ]
    },
    {
      "cell_type": "markdown",
      "metadata": {
        "id": "yI0g0lyng-KO"
      },
      "source": [
        "**Pandas** package"
      ]
    },
    {
      "cell_type": "code",
      "metadata": {
        "id": "dSw2ArwXhJSD"
      },
      "source": [
        "import pandas as pd"
      ],
      "execution_count": null,
      "outputs": []
    },
    {
      "cell_type": "code",
      "metadata": {
        "colab": {
          "base_uri": "https://localhost:8080/",
          "height": 195
        },
        "id": "nY0TuB4GhS27",
        "outputId": "66089e7f-3904-46d8-c0b7-d8b84095da26"
      },
      "source": [
        "col_id = pd.Series(data=[5, 14, 21, 25])\n",
        "col_team = pd.Series(data=['A', 'A', 'B', 'B'])\n",
        "col_name = pd.Series(data=['김패캠', '정코딩', '박데사', '장머신'])\n",
        "col_score = pd.Series(data=[100, 95, 60, 80])\n",
        "\n",
        "df = pd.DataFrame(data={'id' : col_id,\n",
        "                        'team' : col_team,\n",
        "                        'name' : col_name,\n",
        "                        'score' : col_score})\n",
        "df.set_index('id',inplace=True)\n",
        "df"
      ],
      "execution_count": null,
      "outputs": [
        {
          "output_type": "execute_result",
          "data": {
            "text/html": [
              "<div>\n",
              "<style scoped>\n",
              "    .dataframe tbody tr th:only-of-type {\n",
              "        vertical-align: middle;\n",
              "    }\n",
              "\n",
              "    .dataframe tbody tr th {\n",
              "        vertical-align: top;\n",
              "    }\n",
              "\n",
              "    .dataframe thead th {\n",
              "        text-align: right;\n",
              "    }\n",
              "</style>\n",
              "<table border=\"1\" class=\"dataframe\">\n",
              "  <thead>\n",
              "    <tr style=\"text-align: right;\">\n",
              "      <th></th>\n",
              "      <th>team</th>\n",
              "      <th>name</th>\n",
              "      <th>score</th>\n",
              "    </tr>\n",
              "    <tr>\n",
              "      <th>id</th>\n",
              "      <th></th>\n",
              "      <th></th>\n",
              "      <th></th>\n",
              "    </tr>\n",
              "  </thead>\n",
              "  <tbody>\n",
              "    <tr>\n",
              "      <th>5</th>\n",
              "      <td>A</td>\n",
              "      <td>김패캠</td>\n",
              "      <td>100</td>\n",
              "    </tr>\n",
              "    <tr>\n",
              "      <th>14</th>\n",
              "      <td>A</td>\n",
              "      <td>정코딩</td>\n",
              "      <td>95</td>\n",
              "    </tr>\n",
              "    <tr>\n",
              "      <th>21</th>\n",
              "      <td>B</td>\n",
              "      <td>박데사</td>\n",
              "      <td>60</td>\n",
              "    </tr>\n",
              "    <tr>\n",
              "      <th>25</th>\n",
              "      <td>B</td>\n",
              "      <td>장머신</td>\n",
              "      <td>80</td>\n",
              "    </tr>\n",
              "  </tbody>\n",
              "</table>\n",
              "</div>"
            ],
            "text/plain": [
              "   team name  score\n",
              "id                 \n",
              "5     A  김패캠    100\n",
              "14    A  정코딩     95\n",
              "21    B  박데사     60\n",
              "25    B  장머신     80"
            ]
          },
          "metadata": {
            "tags": []
          },
          "execution_count": 11
        }
      ]
    },
    {
      "cell_type": "code",
      "metadata": {
        "colab": {
          "base_uri": "https://localhost:8080/",
          "height": 136
        },
        "id": "ik7RUe2EhWDN",
        "outputId": "fdf27080-59f3-4e50-ab8b-0b3bccb6dbbb"
      },
      "source": [
        "df.groupby('team').mean()"
      ],
      "execution_count": 13,
      "outputs": [
        {
          "output_type": "execute_result",
          "data": {
            "text/html": [
              "<div>\n",
              "<style scoped>\n",
              "    .dataframe tbody tr th:only-of-type {\n",
              "        vertical-align: middle;\n",
              "    }\n",
              "\n",
              "    .dataframe tbody tr th {\n",
              "        vertical-align: top;\n",
              "    }\n",
              "\n",
              "    .dataframe thead th {\n",
              "        text-align: right;\n",
              "    }\n",
              "</style>\n",
              "<table border=\"1\" class=\"dataframe\">\n",
              "  <thead>\n",
              "    <tr style=\"text-align: right;\">\n",
              "      <th></th>\n",
              "      <th>score</th>\n",
              "    </tr>\n",
              "    <tr>\n",
              "      <th>team</th>\n",
              "      <th></th>\n",
              "    </tr>\n",
              "  </thead>\n",
              "  <tbody>\n",
              "    <tr>\n",
              "      <th>A</th>\n",
              "      <td>97.5</td>\n",
              "    </tr>\n",
              "    <tr>\n",
              "      <th>B</th>\n",
              "      <td>70.0</td>\n",
              "    </tr>\n",
              "  </tbody>\n",
              "</table>\n",
              "</div>"
            ],
            "text/plain": [
              "      score\n",
              "team       \n",
              "A      97.5\n",
              "B      70.0"
            ]
          },
          "metadata": {
            "tags": []
          },
          "execution_count": 13
        }
      ]
    },
    {
      "cell_type": "markdown",
      "metadata": {
        "id": "rAGTf3nhuMDL"
      },
      "source": [
        "**Matplotlib** package"
      ]
    },
    {
      "cell_type": "code",
      "metadata": {
        "id": "PopwTyqSuK-Z"
      },
      "source": [
        "import matplotlib.pyplot as plt"
      ],
      "execution_count": 14,
      "outputs": []
    },
    {
      "cell_type": "code",
      "metadata": {
        "colab": {
          "base_uri": "https://localhost:8080/",
          "height": 295
        },
        "id": "UeQPa76Kt2GZ",
        "outputId": "921e0e7f-0735-4861-8739-be60e771a8d4"
      },
      "source": [
        "x = np.linspace(0, 1, 100)\n",
        "y = x\n",
        "yy = x ** 2\n",
        "\n",
        "fig = plt.figure()\n",
        "ax = fig.gca()\n",
        "ax.plot(x, y, 'r-')\n",
        "ax.plot(x, yy, 'g-')\n",
        "ax.set_title('Title')\n",
        "ax.set_xlabel('x')\n",
        "ax.set_ylabel('y')\n",
        "ax.legend(['y = x', 'y = x^2'])\n",
        "ax.grid()\n",
        "fig.show()"
      ],
      "execution_count": 15,
      "outputs": [
        {
          "output_type": "display_data",
          "data": {
            "image/png": "[encoded data removed]",
            "text/plain": [
              "<Figure size 432x288 with 1 Axes>"
            ]
          },
          "metadata": {
            "tags": [],
            "needs_background": "light"
          }
        }
      ]
    }
  ]
}